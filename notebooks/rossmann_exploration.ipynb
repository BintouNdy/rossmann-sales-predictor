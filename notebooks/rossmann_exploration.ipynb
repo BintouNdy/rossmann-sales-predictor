{
 "cells": [
  {
   "cell_type": "markdown",
   "id": "af6625b5",
   "metadata": {},
   "source": [
    "# 📈 Rossmann - Analyse Exploratoire et Visualisation"
   ]
  },
  {
   "cell_type": "code",
   "execution_count": 1,
   "id": "e7e68b67",
   "metadata": {},
   "outputs": [
    {
     "ename": "ModuleNotFoundError",
     "evalue": "No module named 'pandas'",
     "output_type": "error",
     "traceback": [
      "\u001b[31m---------------------------------------------------------------------------\u001b[39m",
      "\u001b[31mModuleNotFoundError\u001b[39m                       Traceback (most recent call last)",
      "\u001b[36mCell\u001b[39m\u001b[36m \u001b[39m\u001b[32mIn[1]\u001b[39m\u001b[32m, line 1\u001b[39m\n\u001b[32m----> \u001b[39m\u001b[32m1\u001b[39m \u001b[38;5;28;01mimport\u001b[39;00m\u001b[38;5;250m \u001b[39m\u001b[34;01mpandas\u001b[39;00m\u001b[38;5;250m \u001b[39m\u001b[38;5;28;01mas\u001b[39;00m\u001b[38;5;250m \u001b[39m\u001b[34;01mpd\u001b[39;00m\n\u001b[32m      2\u001b[39m \u001b[38;5;28;01mimport\u001b[39;00m\u001b[38;5;250m \u001b[39m\u001b[34;01mmatplotlib\u001b[39;00m\u001b[34;01m.\u001b[39;00m\u001b[34;01mpyplot\u001b[39;00m\u001b[38;5;250m \u001b[39m\u001b[38;5;28;01mas\u001b[39;00m\u001b[38;5;250m \u001b[39m\u001b[34;01mplt\u001b[39;00m\n\u001b[32m      3\u001b[39m \u001b[38;5;28;01mimport\u001b[39;00m\u001b[38;5;250m \u001b[39m\u001b[34;01mseaborn\u001b[39;00m\u001b[38;5;250m \u001b[39m\u001b[38;5;28;01mas\u001b[39;00m\u001b[38;5;250m \u001b[39m\u001b[34;01msns\u001b[39;00m\n",
      "\u001b[31mModuleNotFoundError\u001b[39m: No module named 'pandas'"
     ]
    }
   ],
   "source": [
    "import pandas as pd\n",
    "import matplotlib.pyplot as plt\n",
    "import seaborn as sns\n",
    "\n",
    "# Chargement des données\n",
    "train_df = pd.read_csv(\"data/train.csv\", parse_dates=[\"Date\"], dtype={\"StateHoliday\": str})\n",
    "store_df = pd.read_csv(\"data/store.csv\")\n",
    "\n",
    "# Fusion\n",
    "df = pd.merge(train_df, store_df, on=\"Store\", how=\"left\")\n",
    "\n",
    "# Nettoyage rapide\n",
    "df['CompetitionDistance'].fillna(df['CompetitionDistance'].median(), inplace=True)\n",
    "df['StateHoliday'] = df['StateHoliday'].astype(str)\n",
    "df['Date'] = pd.to_datetime(df['Date'], errors='coerce')\n",
    "df['Year'] = df['Date'].dt.year\n",
    "df['Month'] = df['Date'].dt.month\n",
    "df['Day'] = df['Date'].dt.day\n"
   ]
  },
  {
   "cell_type": "code",
   "execution_count": null,
   "id": "86fca54b",
   "metadata": {},
   "outputs": [],
   "source": [
    "# Évolution par jour\n",
    "daily = df.groupby('Date')['Sales'].mean()\n",
    "plt.figure(figsize=(14, 4))\n",
    "daily.plot(title=\"Évolution des ventes par jour\")\n",
    "plt.ylabel(\"Ventes moyennes\")\n",
    "plt.grid()\n",
    "plt.show()\n",
    "\n",
    "# Évolution par semaine\n",
    "weekly = df.resample('W-MON', on='Date')['Sales'].mean()\n",
    "plt.figure(figsize=(14, 4))\n",
    "weekly.plot(title=\"Évolution des ventes par semaine\")\n",
    "plt.ylabel(\"Ventes moyennes\")\n",
    "plt.grid()\n",
    "plt.show()\n",
    "\n",
    "# Évolution par année\n",
    "yearly = df.groupby('Year')['Sales'].mean()\n",
    "plt.figure(figsize=(8, 4))\n",
    "yearly.plot(kind='bar', title=\"Ventes moyennes par année\")\n",
    "plt.ylabel(\"Ventes moyennes\")\n",
    "plt.grid(axis='y')\n",
    "plt.show()\n"
   ]
  }
 ],
 "metadata": {
  "kernelspec": {
   "display_name": ".venv",
   "language": "python",
   "name": "python3"
  },
  "language_info": {
   "codemirror_mode": {
    "name": "ipython",
    "version": 3
   },
   "file_extension": ".py",
   "mimetype": "text/x-python",
   "name": "python",
   "nbconvert_exporter": "python",
   "pygments_lexer": "ipython3",
   "version": "3.13.2"
  }
 },
 "nbformat": 4,
 "nbformat_minor": 5
}
