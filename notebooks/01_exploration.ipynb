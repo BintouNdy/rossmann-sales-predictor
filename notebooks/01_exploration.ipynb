{
 "cells": [
  {
   "cell_type": "code",
   "execution_count": null,
   "id": "81fa4249",
   "metadata": {},
   "outputs": [],
   "source": [
    "import pandas as pd\n",
    "from sklearn.model_selection import train_test_split\n",
    "from sklearn.ensemble import RandomForestRegressor\n",
    "from sklearn.metrics import mean_squared_error\n",
    "\n",
    "# Chargement des données\n",
    "store = pd.read_csv('store.csv')\n",
    "train = pd.read_csv('train.csv')\n",
    "\n",
    "# Analyse rapide\n",
    "print(train.info())\n",
    "print(train.describe())\n",
    "print(store.info())\n",
    "print(store.describe())\n",
    "\n",
    "# Fusion des datasets sur 'Store'\n",
    "data = pd.merge(train, store, on='Store', how='left')\n",
    "\n",
    "# Nettoyage : suppression des valeurs manquantes\n",
    "data_clean = data.dropna()\n",
    "\n",
    "# Sélection des features et de la cible\n",
    "X = data_clean.drop(['Sales', 'Date', 'Customers'], axis=1, errors='ignore')\n",
    "y = data_clean['Sales']\n",
    "\n",
    "# Encodage des variables catégorielles\n",
    "X = pd.get_dummies(X)\n",
    "\n",
    "# Séparation train/test\n",
    "X_train, X_test, y_train, y_test = train_test_split(X, y, test_size=0.2, random_state=42)\n",
    "\n",
    "# Modélisation : Random Forest\n",
    "model = RandomForestRegressor(n_estimators=100, random_state=42)\n",
    "model.fit(X_train, y_train)\n",
    "\n",
    "# Prédiction et évaluation\n",
    "y_pred = model.predict(X_test)\n",
    "rmse = mean_squared_error(y_test, y_pred, squared=False)\n",
    "print(f'RMSE: {rmse:.2f}')"
   ]
  }
 ],
 "metadata": {
  "language_info": {
   "name": "python"
  }
 },
 "nbformat": 4,
 "nbformat_minor": 5
}
