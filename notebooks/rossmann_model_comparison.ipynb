{
 "cells": [
  {
   "cell_type": "markdown",
   "id": "e3dee325",
   "metadata": {},
   "source": [
    "# 🤖 Rossmann Sales Prediction - Modèles Comparés (XGBoost, Random Forest, LinReg)"
   ]
  },
  {
   "cell_type": "code",
   "execution_count": null,
   "id": "6e36f451",
   "metadata": {},
   "outputs": [],
   "source": [
    "import pandas as pd\n",
    "import numpy as np\n",
    "import matplotlib.pyplot as plt\n",
    "import seaborn as sns\n",
    "\n",
    "from sklearn.model_selection import train_test_split, GridSearchCV\n",
    "from sklearn.metrics import mean_squared_error, mean_absolute_error\n",
    "from sklearn.preprocessing import LabelEncoder\n",
    "\n",
    "from sklearn.linear_model import LinearRegression\n",
    "from sklearn.ensemble import RandomForestRegressor\n",
    "from xgboost import XGBRegressor\n"
   ]
  },
  {
   "cell_type": "code",
   "execution_count": null,
   "id": "b7174c1e",
   "metadata": {},
   "outputs": [],
   "source": [
    "# Chargement des données\n",
    "train_df = pd.read_csv(\"/content/train.csv\", parse_dates=[\"Date\"], dtype={\"StateHoliday\": str})\n",
    "store_df = pd.read_csv(\"/content/store.csv\")\n",
    "\n",
    "# Fusion et nettoyage de base\n",
    "df = pd.merge(train_df, store_df, on=\"Store\", how=\"left\")\n",
    "df['CompetitionDistance'].fillna(df['CompetitionDistance'].median(), inplace=True)\n",
    "df['StateHoliday'] = df['StateHoliday'].astype(str)\n",
    "df['PromoInterval'].fillna(\"None\", inplace=True)\n",
    "df['Date'] = pd.to_datetime(df['Date'], errors='coerce')\n",
    "df['Year'] = df['Date'].dt.year\n",
    "df['Month'] = df['Date'].dt.month\n",
    "df['Day'] = df['Date'].dt.day\n",
    "df['DayOfWeek'] = df['Date'].dt.dayofweek\n",
    "df = df[df['Open'] == 1]  # Exclure les jours où le magasin est fermé\n",
    "df['Sales'] = df['Sales'].clip(upper=df['Sales'].quantile(0.99))  # Limiter les outliers\n",
    "df.drop(['Customers', 'Date'], axis=1, inplace=True)\n"
   ]
  },
  {
   "cell_type": "code",
   "execution_count": null,
   "id": "6d217058",
   "metadata": {},
   "outputs": [],
   "source": [
    "# Encodage des colonnes catégorielles\n",
    "for col in df.select_dtypes(include='object').columns:\n",
    "    le = LabelEncoder()\n",
    "    df[col] = le.fit_transform(df[col])\n"
   ]
  },
  {
   "cell_type": "code",
   "execution_count": null,
   "id": "5c61dfcc",
   "metadata": {},
   "outputs": [],
   "source": [
    "X = df.drop(\"Sales\", axis=1)\n",
    "y = df[\"Sales\"]\n",
    "X_train, X_test, y_train, y_test = train_test_split(X, y, test_size=0.2, random_state=42)\n"
   ]
  },
  {
   "cell_type": "code",
   "execution_count": null,
   "id": "7fad2dbf",
   "metadata": {},
   "outputs": [],
   "source": [
    "lr = LinearRegression()\n",
    "lr.fit(X_train, y_train)\n",
    "y_pred_lr = lr.predict(X_test)\n",
    "rmse_lr = mean_squared_error(y_test, y_pred_lr, squared=False)\n",
    "mae_lr = mean_absolute_error(y_test, y_pred_lr)\n",
    "print(f\"Linear Regression - RMSE: {rmse_lr:.2f} | MAE: {mae_lr:.2f}\")\n"
   ]
  },
  {
   "cell_type": "code",
   "execution_count": null,
   "id": "119eece1",
   "metadata": {},
   "outputs": [],
   "source": [
    "rf = RandomForestRegressor(n_estimators=100, random_state=42)\n",
    "rf.fit(X_train, y_train)\n",
    "y_pred_rf = rf.predict(X_test)\n",
    "rmse_rf = mean_squared_error(y_test, y_pred_rf, squared=False)\n",
    "mae_rf = mean_absolute_error(y_test, y_pred_rf)\n",
    "print(f\"Random Forest - RMSE: {rmse_rf:.2f} | MAE: {mae_rf:.2f}\")\n"
   ]
  },
  {
   "cell_type": "code",
   "execution_count": null,
   "id": "c76a75a9",
   "metadata": {},
   "outputs": [],
   "source": [
    "xgb = XGBRegressor(objective='reg:squarederror', random_state=42)\n",
    "xgb.fit(X_train, y_train)\n",
    "y_pred_xgb = xgb.predict(X_test)\n",
    "rmse_xgb = mean_squared_error(y_test, y_pred_xgb, squared=False)\n",
    "mae_xgb = mean_absolute_error(y_test, y_pred_xgb)\n",
    "print(f\"XGBoost - RMSE: {rmse_xgb:.2f} | MAE: {mae_xgb:.2f}\")\n"
   ]
  },
  {
   "cell_type": "code",
   "execution_count": null,
   "id": "cf302090",
   "metadata": {},
   "outputs": [],
   "source": [
    "results = pd.DataFrame({\n",
    "    'Model': ['Linear Regression', 'Random Forest', 'XGBoost'],\n",
    "    'RMSE': [rmse_lr, rmse_rf, rmse_xgb],\n",
    "    'MAE': [mae_lr, mae_rf, mae_xgb]\n",
    "})\n",
    "sns.barplot(data=results.melt(id_vars='Model'), x='Model', y='value', hue='variable')\n",
    "plt.title(\"Comparaison des Modèles\")\n",
    "plt.ylabel(\"Erreur\")\n",
    "plt.show()\n"
   ]
  }
 ],
 "metadata": {},
 "nbformat": 4,
 "nbformat_minor": 5
}